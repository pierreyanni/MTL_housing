{
 "cells": [
  {
   "cell_type": "markdown",
   "metadata": {},
   "source": [
    "# Main idea/goal\n",
    "When looking for a good on kijiji (or similar websites), get a summary of some statistics for that good (number of goods on sale, time the ads have been online, stats on price distribution) + some analytics on how to explain the price with different variables, including the description (NLP)\n",
    "I could also download and create a database of apartments and train an algorithm on it to predict how much I would like an apartment; this could be done after I set some criteria on price and other variable, including computing a distance to the nearest metro station\n",
    "## Main Elements\n",
    "* web scraping\n",
    "* data cleaning\n",
    "* simple analytics, visualization\n",
    "* simple regressions\n",
    "* regressions with NLP"
   ]
  },
  {
   "cell_type": "markdown",
   "metadata": {},
   "source": [
    "# Web Scraping\n",
    "## Goal\n",
    "Enter a web address on Kijiji and have the script get all the variables in a dataframe\n",
    "\n",
    "## To do:\n",
    "* loop over several pages to get more ads\n",
    "* fix the accents in french (description)"
   ]
  },
  {
   "cell_type": "code",
   "execution_count": 2,
   "metadata": {},
   "outputs": [],
   "source": [
    "%matplotlib inline\n",
    "import pandas as pd\n",
    "import numpy as np\n",
    "from bs4 import BeautifulSoup\n",
    "import requests\n",
    "import time\n",
    "import os"
   ]
  },
  {
   "cell_type": "code",
   "execution_count": 45,
   "metadata": {},
   "outputs": [],
   "source": [
    "# create dataframe for data\n",
    "housing = pd.DataFrame(columns=['datePosted', 'title', 'price', 'address', 'latitude', \n",
    "        'longitude', 'description', 'rooms', 'bathrooms', 'pets', 'furnished', 'dateScraped'])\n",
    "housing.to_csv('../data/housing.csv')"
   ]
  },
  {
   "cell_type": "code",
   "execution_count": 19,
   "metadata": {},
   "outputs": [],
   "source": [
    "housing = pd.read_csv(path+'/../data/housing2.csv')"
   ]
  }
 ],
 "metadata": {
  "kernelspec": {
   "display_name": "Python 3",
   "language": "python",
   "name": "python3"
  },
  "language_info": {
   "codemirror_mode": {
    "name": "ipython",
    "version": 3
   },
   "file_extension": ".py",
   "mimetype": "text/x-python",
   "name": "python",
   "nbconvert_exporter": "python",
   "pygments_lexer": "ipython3",
   "version": "3.7.0"
  }
 },
 "nbformat": 4,
 "nbformat_minor": 2
}
